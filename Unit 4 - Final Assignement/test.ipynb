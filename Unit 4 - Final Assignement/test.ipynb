{
 "cells": [
  {
   "cell_type": "markdown",
   "id": "5da5dc4f",
   "metadata": {},
   "source": [
    "# Notebook Test"
   ]
  },
  {
   "cell_type": "markdown",
   "id": "a47eb29c",
   "metadata": {},
   "source": [
    "## Questions Data\n",
    "\n",
    "This is extract from https://huggingface.co/spaces/baixianger/RobotPai/blob/main/test.ipynb\n"
   ]
  },
  {
   "cell_type": "code",
   "execution_count": 8,
   "id": "f1bb932d",
   "metadata": {},
   "outputs": [],
   "source": [
    "import json \n",
    "\n",
    "with open('metadata.jsonl', 'r') as jsonl_file:\n",
    "    json_list = list(jsonl_file)\n",
    "\n",
    "json_QA = []\n",
    "for json_str in json_list:\n",
    "    json_data = json.loads(json_str)\n",
    "    json_QA.append(json_data)\n"
   ]
  },
  {
   "cell_type": "code",
   "execution_count": 9,
   "id": "f1f2e81f",
   "metadata": {},
   "outputs": [
    {
     "name": "stdout",
     "output_type": "stream",
     "text": [
      "==================================================\n",
      "Task ID: 2b3ef98c-cc05-450b-a719-711aee40ac65\n",
      "Question: Could you help me out with this assignment? Our professor sprung it on us at the end of class Friday, and I'm still trying to figure it out. The question he asked us was about an anagram. I've attached an audio recording of the question that he asked, so if you could please take a listen and give me the answer, I'd really appreciate the help. Please limit your response to the anagram text that could be generated from the original line which fulfills the professor's request, without any other commentary. Also, please don't include any punctuation in your response.\n",
      "Level: 2\n",
      "Final Answer: To be or not to be that is the question whether tis nobler in the mind to suffer the slings and arrows of outrageous fortune\n",
      "Annotator Metadata: \n",
      "  ├── Steps: \n",
      "  │      ├── Step 1: Load the audio file my user submitted with the query\n",
      "  │      ├── Step 2: Using speech-to-text tools, convert the audio to plain text, and store the text for evaluation:\n",
      "  │      ├── \n",
      "  │      ├── \"Okay guys before we call it for the week I've got one little bonus assignment. The following quotation is actually an anagram of one of the bard's most well known lines. I'd like you all to think about it and anyone who can provide the original line will get an automatic A on next week's quiz. Here's the anagram. In one of the bard's best thought of tragedies our insistent hero Hamlet queries on two fronts about how life turns rotten.\"\n",
      "  │      ├── \n",
      "  │      ├── Step 3: Evaluate the transcribed text for relevant information:\n",
      "  │      ├── The transcribed text references \"the bard\" twice\n",
      "  │      ├── The text contains the anagram to solve: \"In one of the bard's best thought of tragedies our insistent hero Hamlet queries on two fronts about how life turns rotten\"\n",
      "  │      ├── The decoded text resolves as a well-known line of \"the bard\"\n",
      "  │      ├── \n",
      "  │      ├── Step 4: Using a web browser, access a search engine and conduct a search, \"who is the bard\"\n",
      "  │      ├── Step 5: Navigate to the first search result, https://www.vocabulary.com/dictionary/bard\n",
      "  │      ├── Step 6: Evaluate the page content, noting that the page identifies William Shakespeare as \"The Bard\"\n",
      "  │      ├── Step 7: Navigate to a search engine and conduct a search, \"William Shakespeare, In one of the bard's best thought of tragedies our insistent hero Hamlet queries on two fronts about how life turns rotten\"\n",
      "  │      ├── Step 8: Navigate to the first search result, https://www.chem.ucla.edu/~ltfang/humors/anagram.html\n",
      "  │      ├── Step 9: Evaluate the page content, noting that the page identifies the anagram of \"In one of the bard's best thought of tragedies our insistent hero Hamlet queries on two fronts about how life turns rotten\" as \"To be or not to be: that is the question, whether tis nobler in the mind to suffer the slings and arrows of outrageous fortune\"\n",
      "  │      ├── Step 10: Compare the information provided by the website resource to the original text, to determine if the original text and the candidate solution share the same letters. As this is the case, store this anagram as a candidate solution.\n",
      "  │      ├── Step 11: Navigate to a search engine and conduct a search, \"William Shakespeare, To be or not to be: that is the question, whether tis nobler in the mind to suffer the slings and arrows of outrageous fortune\"\n",
      "  │      ├── Step 12: Navigate to the first search result, https://poets.org/poem/hamlet-act-iii-scene-i-be-or-not-be\n",
      "  │      ├── Step 13: Evaluate the page content, learning that the phrase \"To be or not to be: that is the question, whether tis nobler in the mind to suffer the slings and arrows of outrageous fortune\" is a line from William Shakespeare's play Hamlet, which corresponds with both the clue provided by the professor in the initial text and the clue provided in the anagrammed text.\n",
      "  │      ├── Step 14: Confirming the accuracy of the surfaced result, provide the correct response to my user, formatted as requested, \"To be or not to be that is the question whether tis nobler in the mind to suffer the slings and arrows of outrageous fortune\"\n",
      "  ├── Number of steps: 14\n",
      "  ├── How long did this take?: 5 minutes\n",
      "  ├── Tools:\n",
      "  │      ├── 1. A web browser\n",
      "  │      ├── 2. A search engine\n",
      "  │      ├── 3. A speech-to-text tool\n",
      "  └── Number of tools: 3\n",
      "==================================================\n"
     ]
    }
   ],
   "source": [
    "# randomly select 3 samples\n",
    "# {\"task_id\": \"c61d22de-5f6c-4958-a7f6-5e9707bd3466\", \"Question\": \"A paper about AI regulation that was originally submitted to arXiv.org in June 2022 shows a figure with three axes, where each axis has a label word at both ends. Which of these words is used to describe a type of society in a Physics and Society article submitted to arXiv.org on August 11, 2016?\", \"Level\": 2, \"Final answer\": \"egalitarian\", \"file_name\": \"\", \"Annotator Metadata\": {\"Steps\": \"1. Go to arxiv.org and navigate to the Advanced Search page.\\n2. Enter \\\"AI regulation\\\" in the search box and select \\\"All fields\\\" from the dropdown.\\n3. Enter 2022-06-01 and 2022-07-01 into the date inputs, select \\\"Submission date (original)\\\", and submit the search.\\n4. Go through the search results to find the article that has a figure with three axes and labels on each end of the axes, titled \\\"Fairness in Agreement With European Values: An Interdisciplinary Perspective on AI Regulation\\\".\\n5. Note the six words used as labels: deontological, egalitarian, localized, standardized, utilitarian, and consequential.\\n6. Go back to arxiv.org\\n7. Find \\\"Physics and Society\\\" and go to the page for the \\\"Physics and Society\\\" category.\\n8. Note that the tag for this category is \\\"physics.soc-ph\\\".\\n9. Go to the Advanced Search page.\\n10. Enter \\\"physics.soc-ph\\\" in the search box and select \\\"All fields\\\" from the dropdown.\\n11. Enter 2016-08-11 and 2016-08-12 into the date inputs, select \\\"Submission date (original)\\\", and submit the search.\\n12. Search for instances of the six words in the results to find the paper titled \\\"Phase transition from egalitarian to hierarchical societies driven by competition between cognitive and social constraints\\\", indicating that \\\"egalitarian\\\" is the correct answer.\", \"Number of steps\": \"12\", \"How long did this take?\": \"8 minutes\", \"Tools\": \"1. Web browser\\n2. Image recognition tools (to identify and parse a figure with three axes)\", \"Number of tools\": \"2\"}}\n",
    "\n",
    "import random\n",
    "# random.seed(42)\n",
    "random_samples = random.sample(json_QA, 1)\n",
    "for sample in random_samples:\n",
    "    print(\"=\" * 50)\n",
    "    print(f\"Task ID: {sample['task_id']}\")\n",
    "    print(f\"Question: {sample['Question']}\")\n",
    "    print(f\"Level: {sample['Level']}\")\n",
    "    print(f\"Final Answer: {sample['Final answer']}\")\n",
    "    print(f\"Annotator Metadata: \")\n",
    "    print(f\"  ├── Steps: \")\n",
    "    for step in sample['Annotator Metadata']['Steps'].split('\\n'):\n",
    "        print(f\"  │      ├── {step}\")\n",
    "    print(f\"  ├── Number of steps: {sample['Annotator Metadata']['Number of steps']}\")\n",
    "    print(f\"  ├── How long did this take?: {sample['Annotator Metadata']['How long did this take?']}\")\n",
    "    print(f\"  ├── Tools:\")\n",
    "    for tool in sample['Annotator Metadata']['Tools'].split('\\n'):\n",
    "        print(f\"  │      ├── {tool}\")\n",
    "    print(f\"  └── Number of tools: {sample['Annotator Metadata']['Number of tools']}\")\n",
    "print(\"=\" * 50)"
   ]
  },
  {
   "cell_type": "code",
   "execution_count": 33,
   "id": "1eededaf",
   "metadata": {},
   "outputs": [
    {
     "name": "stdout",
     "output_type": "stream",
     "text": [
      "List of tools used in all samples:\n",
      "Total number of tools used: 83\n",
      "  ├── web browser: 107\n",
      "  ├── image recognition tools (to identify and parse a figure with three axes): 1\n",
      "  ├── search engine: 101\n",
      "  ├── calculator: 34\n",
      "  ├── unlambda compiler (optional): 1\n",
      "  ├── a web browser.: 2\n",
      "  ├── a search engine.: 2\n",
      "  ├── a calculator.: 1\n",
      "  ├── microsoft excel: 5\n",
      "  ├── google search: 1\n",
      "  ├── ne: 9\n",
      "  ├── pdf access: 7\n",
      "  ├── file handling: 2\n",
      "  ├── python: 3\n",
      "  ├── image recognition tools: 12\n",
      "  ├── jsonld file access: 1\n",
      "  ├── video parsing: 1\n",
      "  ├── python compiler: 1\n",
      "  ├── video recognition tools: 3\n",
      "  ├── pdf viewer: 7\n",
      "  ├── microsoft excel / google sheets: 3\n",
      "  ├── word document access: 1\n",
      "  ├── tool to extract text from images: 1\n",
      "  ├── a word reversal tool / script: 1\n",
      "  ├── counter: 1\n",
      "  ├── excel: 3\n",
      "  ├── image recognition: 5\n",
      "  ├── color recognition: 3\n",
      "  ├── excel file access: 3\n",
      "  ├── xml file access: 1\n",
      "  ├── access to the internet archive, web.archive.org: 1\n",
      "  ├── text processing/diff tool: 1\n",
      "  ├── gif parsing tools: 1\n",
      "  ├── a web browser: 7\n",
      "  ├── a search engine: 7\n",
      "  ├── a speech-to-text tool: 2\n",
      "  ├── code/data analysis tools: 1\n",
      "  ├── audio capability: 2\n",
      "  ├── pdf reader: 1\n",
      "  ├── markdown: 1\n",
      "  ├── a calculator: 5\n",
      "  ├── access to wikipedia: 3\n",
      "  ├── image recognition/ocr: 3\n",
      "  ├── google translate access: 1\n",
      "  ├── ocr: 4\n",
      "  ├── bass note data: 1\n",
      "  ├── text editor: 1\n",
      "  ├── xlsx file access: 1\n",
      "  ├── powerpoint viewer: 1\n",
      "  ├── csv file access: 1\n",
      "  ├── calculator (or use excel): 1\n",
      "  ├── computer algebra system: 1\n",
      "  ├── video processing software: 1\n",
      "  ├── audio processing software: 1\n",
      "  ├── computer vision: 1\n",
      "  ├── google maps: 1\n",
      "  ├── access to excel files: 1\n",
      "  ├── calculator (or ability to count): 1\n",
      "  ├── a file interface: 3\n",
      "  ├── a python ide: 1\n",
      "  ├── spreadsheet editor: 1\n",
      "  ├── tools required: 1\n",
      "  ├── b browser: 1\n",
      "  ├── image recognition and processing tools: 1\n",
      "  ├── computer vision or ocr: 1\n",
      "  ├── c++ compiler: 1\n",
      "  ├── access to google maps: 1\n",
      "  ├── youtube player: 1\n",
      "  ├── natural language processor: 1\n",
      "  ├── graph interaction tools: 1\n",
      "  ├── bablyonian cuniform -> arabic legend: 1\n",
      "  ├── access to youtube: 1\n",
      "  ├── image search tools: 1\n",
      "  ├── calculator or counting function: 1\n",
      "  ├── a speech-to-text audio processing tool: 1\n",
      "  ├── access to academic journal websites: 1\n",
      "  ├── pdf reader/extracter: 1\n",
      "  ├── rubik's cube model: 1\n",
      "  ├── wikipedia: 1\n",
      "  ├── video capability: 1\n",
      "  ├── image processing tools: 1\n",
      "  ├── age recognition software: 1\n",
      "  ├── youtube: 1\n"
     ]
    }
   ],
   "source": [
    "# list of the tools used in all the samples\n",
    "from collections import Counter, OrderedDict\n",
    "\n",
    "tools = []\n",
    "for sample in json_QA:\n",
    "    for tool in sample['Annotator Metadata']['Tools'].split('\\n'):\n",
    "        tool = tool[2:].strip().lower()\n",
    "        if tool.startswith(\"(\"):\n",
    "            tool = tool[11:].strip()\n",
    "        tools.append(tool)\n",
    "tools_counter = OrderedDict(Counter(tools))\n",
    "print(\"List of tools used in all samples:\")\n",
    "print(\"Total number of tools used:\", len(tools_counter))\n",
    "for tool, count in tools_counter.items():\n",
    "    print(f\"  ├── {tool}: {count}\")"
   ]
  },
  {
   "cell_type": "markdown",
   "id": "34150780",
   "metadata": {},
   "source": [
    "## Tools\n"
   ]
  },
  {
   "cell_type": "code",
   "execution_count": 22,
   "id": "00ca9b55",
   "metadata": {},
   "outputs": [],
   "source": [
    "from langchain_core.tools import tool\n",
    "\n",
    "@tool\n",
    "def multiply(a: int, b: int) -> int:\n",
    "    \"\"\"Multiply two numbers.\n",
    "    Args:\n",
    "        a: first int\n",
    "        b: second int\n",
    "    \"\"\"\n",
    "    return a * b\n",
    "\n",
    "@tool\n",
    "def add(a: int, b: int) -> int:\n",
    "    \"\"\"Add two numbers.\n",
    "    \n",
    "    Args:\n",
    "        a: first int\n",
    "        b: second int\n",
    "    \"\"\"\n",
    "    return a + b\n",
    "\n",
    "@tool\n",
    "def subtract(a: int, b: int) -> int:\n",
    "    \"\"\"Subtract two numbers.\n",
    "    \n",
    "    Args:\n",
    "        a: first int\n",
    "        b: second int\n",
    "    \"\"\"\n",
    "    return a - b\n",
    "\n",
    "@tool\n",
    "def divide(a: int, b: int) -> int:\n",
    "    \"\"\"Divide two numbers.\n",
    "    \n",
    "    Args:\n",
    "        a: first int\n",
    "        b: second int\n",
    "    \"\"\"\n",
    "    if b == 0:\n",
    "        raise ValueError(\"Cannot divide by zero.\")\n",
    "    return a / b\n",
    "\n",
    "@tool\n",
    "def modulus(a: int, b: int) -> int:\n",
    "    \"\"\"Get the modulus of two numbers.\n",
    "    \n",
    "    Args:\n",
    "        a: first int\n",
    "        b: second int\n",
    "    \"\"\"\n",
    "    return a % b\n",
    "\n",
    "# All the tools in one list\n",
    "tools = [add, subtract, multiply, divide, modulus]\n"
   ]
  },
  {
   "cell_type": "code",
   "execution_count": null,
   "id": "1c14227b",
   "metadata": {},
   "outputs": [],
   "source": []
  },
  {
   "cell_type": "markdown",
   "id": "1191db77",
   "metadata": {},
   "source": [
    "## Graph\n"
   ]
  },
  {
   "cell_type": "code",
   "execution_count": 25,
   "id": "8bc7f8de",
   "metadata": {},
   "outputs": [],
   "source": [
    "from langgraph.graph import StateGraph, START, END\n",
    "from langgraph.graph.message import MessagesState\n",
    "from langchain_core.messages import HumanMessage, SystemMessage\n",
    "from langchain_core.runnables import Runnable\n",
    "from langgraph.prebuilt import ToolNode # For the ToolNode\n",
    "from langgraph.prebuilt import tools_condition # For the transition\n",
    "\n",
    "from agent import BasicAgent  # Using the agent\n",
    "\n",
    "tool_node = ToolNode(tools)\n",
    "\n"
   ]
  },
  {
   "cell_type": "code",
   "execution_count": null,
   "id": "ad61bb49",
   "metadata": {},
   "outputs": [],
   "source": [
    "class LLMWrapper(Runnable):\n",
    "    def __init__(self, agent):\n",
    "        self.agent = agent\n",
    "\n",
    "    def invoke(self, input_messages: list):\n",
    "        last_human_message = [msg for msg in input_messages if isinstance(msg, HumanMessage)][-1]\n",
    "        output = self.agent(last_human_message.content)\n",
    "        return {\"messages\": [output]}\n",
    "\n",
    "# Permet d'adapter mon modele local qui fonctionne avec des strings dans le mode LangGraph avec des messages states"
   ]
  },
  {
   "cell_type": "code",
   "execution_count": 27,
   "id": "9e5ea123",
   "metadata": {},
   "outputs": [],
   "source": [
    "agent = BasicAgent()\n",
    "llm_node = LLMWrapper(agent)\n",
    "\n",
    "def assistant_node(state: MessagesState):\n",
    "    return llm_node.invoke(state[\"messages\"])\n"
   ]
  },
  {
   "cell_type": "code",
   "execution_count": 29,
   "id": "711c1a2c",
   "metadata": {},
   "outputs": [],
   "source": [
    "graph_builder = StateGraph(MessagesState)\n",
    "graph_builder.add_node(\"assistant\", assistant_node)\n",
    "graph_builder.add_node(\"tools\", tool_node)\n",
    "\n",
    "# Graphe logique\n",
    "graph_builder.add_edge(START, \"assistant\")\n",
    "graph_builder.add_conditional_edges(\"assistant\", tools_condition)  # si tool_call -> tools\n",
    "graph_builder.add_edge(\"tools\", \"assistant\")  # retour au modèle après outil\n",
    "graph_builder.add_edge(\"assistant\", END)  # sinon fin\n",
    "\n",
    "graph = graph_builder.compile()\n"
   ]
  },
  {
   "cell_type": "code",
   "execution_count": 32,
   "id": "387ae1f2",
   "metadata": {},
   "outputs": [
    {
     "data": {
      "image/png": "[encoded data removed]",
      "text/plain": [
       "<IPython.core.display.Image object>"
      ]
     },
     "metadata": {},
     "output_type": "display_data"
    }
   ],
   "source": [
    "from IPython.display import Image, display\n",
    "\n",
    "display(Image(graph.get_graph(xray=True).draw_mermaid_png()))"
   ]
  },
  {
   "cell_type": "markdown",
   "id": "f881648e",
   "metadata": {},
   "source": [
    "### Tests du modele "
   ]
  },
  {
   "cell_type": "code",
   "execution_count": 30,
   "id": "3c7e3ab3",
   "metadata": {},
   "outputs": [],
   "source": [
    "from langchain_core.messages import HumanMessage"
   ]
  },
  {
   "cell_type": "code",
   "execution_count": 31,
   "id": "add06e4b",
   "metadata": {},
   "outputs": [
    {
     "name": "stdout",
     "output_type": "stream",
     "text": [
      "\n",
      "📨 Prompt envoyé à Ollama :\n",
      "You are a general AI assistant.\n",
      " I will ask you a question.\n",
      " Report your thoughts, and finish your answer with the following template: \n",
      " FINAL ANSWER: [YOUR FINAL ANSWER]. \n",
      " YOUR FINAL ANSWER should be a number OR as few words as possible OR a comma separated list of numbers and/or strings.\n",
      " If you are asked for a number, don't use comma to write your number neither use units such as $ or percent sign unless specified otherwise. \n",
      " If you are asked for a string, don't use articles, neither abbreviations (e.g. for cities), and write the digits in plain text unless specified otherwise.\n",
      " If you are asked for a comma separated list, apply the above rules depending of whether the element to be put in the list is a number or a string.\n",
      "\n",
      "Question: What is the result of 5 * 3 + 2?\n",
      "Answer:\n",
      "\n",
      "\n",
      "📤 Réponse complète reçue :\n",
      "I'll process the mathematical expression...\n",
      "\n",
      "First, I'll calculate the multiplication: 5 * 3 = 15\n",
      "\n",
      "Then, I'll add 2 to the result: 15 + 2 = 17\n",
      "\n",
      "Hmm, seems like a straightforward calculation!\n",
      "\n",
      "FINAL ANSWER: 17\n",
      "\n",
      "✅ Réponse extraite : 17\n",
      "What is the result of 5 * 3 + 2?\n",
      "17\n"
     ]
    }
   ],
   "source": [
    "messages = [HumanMessage(content=\"What is the result of 5 * 3 + 2?\")]\n",
    "result = graph.invoke({\"messages\": messages})\n",
    "\n",
    "for m in result[\"messages\"]:\n",
    "    print(m.content if hasattr(m, \"content\") else m)\n"
   ]
  },
  {
   "cell_type": "code",
   "execution_count": null,
   "id": "63f6085c",
   "metadata": {},
   "outputs": [
    {
     "name": "stdout",
     "output_type": "stream",
     "text": [
      "\n",
      "📨 Prompt envoyé à Ollama :\n",
      "You are a general AI assistant.\n",
      " I will ask you a question.\n",
      " Report your thoughts, and finish your answer with the following template: \n",
      " FINAL ANSWER: [YOUR FINAL ANSWER]. \n",
      " YOUR FINAL ANSWER should be a number OR as few words as possible OR a comma separated list of numbers and/or strings.\n",
      " If you are asked for a number, don't use comma to write your number neither use units such as $ or percent sign unless specified otherwise. \n",
      " If you are asked for a string, don't use articles, neither abbreviations (e.g. for cities), and write the digits in plain text unless specified otherwise.\n",
      " If you are asked for a comma separated list, apply the above rules depending of whether the element to be put in the list is a number or a string.\n",
      "\n",
      "Question: What is the capital of France?\n",
      "Answer:\n",
      "\n",
      "\n",
      "📤 Réponse complète reçue :\n",
      "I'm processing your question!\n",
      "\n",
      "My thoughts: I have access to a vast amount of information and can retrieve data on various topics. In this case, I know that France is a country located in Western Europe, and it has its own government with a president as head of state.\n",
      "\n",
      "Ah-ha! I found the answer!\n",
      "\n",
      "FINAL ANSWER: Paris\n",
      "\n",
      "✅ Réponse extraite : Paris\n",
      "✅ Final Answer: content='Paris' additional_kwargs={} response_metadata={} id='f21f069f-ac9b-4bd2-a3aa-35eaebadd0cb'\n"
     ]
    }
   ],
   "source": [
    "question = \"What is the capital of France?\"\n",
    "messages = [HumanMessage(content=question)]\n",
    "\n",
    "result = graph.invoke({\"messages\": messages})\n",
    "print(\"✅ Final Answer:\", result[\"messages\"][-1])\n"
   ]
  }
 ],
 "metadata": {
  "kernelspec": {
   "display_name": "venv",
   "language": "python",
   "name": "python3"
  },
  "language_info": {
   "codemirror_mode": {
    "name": "ipython",
    "version": 3
   },
   "file_extension": ".py",
   "mimetype": "text/x-python",
   "name": "python",
   "nbconvert_exporter": "python",
   "pygments_lexer": "ipython3",
   "version": "3.12.3"
  }
 },
 "nbformat": 4,
 "nbformat_minor": 5
}
