{
  "cells": [
    {
      "cell_type": "markdown",
      "metadata": {
        "colab_type": "text",
        "id": "view-in-github"
      },
      "source": [
        "<a href=\"https://colab.research.google.com/github/Gaabiin5/Hugging_Face_Formation/blob/main/tool_calling_agents.ipynb\" target=\"_parent\"><img src=\"https://colab.research.google.com/assets/colab-badge.svg\" alt=\"Open In Colab\"/></a>"
      ]
    },
    {
      "cell_type": "markdown",
      "metadata": {
        "id": "Pi9CF0391ARI"
      },
      "source": [
        "# Writing actions as code snippets or JSON blobs\n",
        "\n",
        "This notebook is part of the [Hugging Face Agents Course](https://www.hf.co/learn/agents-course), a free Course from beginner to expert, where you learn to build Agents.\n",
        "\n",
        "![Agents course share](https://huggingface.co/datasets/agents-course/course-images/resolve/main/en/communication/share.png)"
      ]
    },
    {
      "cell_type": "markdown",
      "metadata": {
        "id": "9gsYky7F1GzT"
      },
      "source": [
        "## Let's install the dependencies and login to our HF account to access the Inference API\n",
        "\n",
        "If you haven't installed `smolagents` yet, you can do so by running the following command:"
      ]
    },
    {
      "cell_type": "code",
      "execution_count": null,
      "metadata": {
        "id": "MoFopncp0pnJ"
      },
      "outputs": [],
      "source": [
        "# !pip install smolagents -U"
      ]
    },
    {
      "cell_type": "markdown",
      "metadata": {
        "id": "cH-4W1GhYL4T"
      },
      "source": [
        "Let's also login to the Hugging Face Hub to have access to the Inference API."
      ]
    },
    {
      "cell_type": "code",
      "execution_count": null,
      "metadata": {
        "id": "TFTc-ry70y1f"
      },
      "outputs": [],
      "source": [
        "from huggingface_hub import notebook_login\n",
        "\n",
        "notebook_login()"
      ]
    },
    {
      "cell_type": "code",
      "execution_count": null,
      "metadata": {},
      "outputs": [],
      "source": []
    },
    {
      "cell_type": "markdown",
      "metadata": {
        "id": "ekKxaZrd1HlB"
      },
      "source": [
        "## Selecting a Playlist for the Party Using `smolagents` and a `ToolCallingAgent`\n",
        "\n",
        "Let's revisit the previous example where Alfred started party preparations, but this time we'll use a `ToolCallingAgent` to highlight the difference. We'll build an agent that can search the web using DuckDuckGo, just like in our Code Agent example. The only difference is the agent type - the framework handles everything else:"
      ]
    },
    {
      "cell_type": "code",
      "execution_count": 21,
      "metadata": {
        "colab": {
          "base_uri": "https://localhost:8080/",
          "height": 1000
        },
        "id": "6IInDOUN01sP",
        "outputId": "e49f2360-d377-4ed8-b7ae-8da4a3e3757b"
      },
      "outputs": [],
      "source": [
        "from smolagents import ToolCallingAgent, DuckDuckGoSearchTool, InferenceClientModel, LiteLLMModel\n",
        "\n",
        "model = LiteLLMModel(\n",
        "        # model_id=\"ollama_chat/deepseek-coder:6.7b-instruct\",  # Or try other Ollama-supported models\n",
        "        # model_id=\"ollama_chat/phi4-mini\",\n",
        "        model_id=\"ollama_chat/openchat\",\n",
        "        api_base=\"http://127.0.0.1:11434\",  # Default Ollama local server\n",
        "        num_ctx=8192,\n",
        "        # temperature=0.2,  # rLess creativity\n",
        "        # max_tokens=512,   # Limit the lenght of the response\n",
        "        system_message=\"\"\"You are an intelligent assistant. \n",
        "                Only use a tool if needed to answer the user's query. \n",
        "                Once you have the information you need, respond directly to the user.\n",
        "                Do not try to search more than 3 times for similar things.\n",
        "                Do not repeat tool calls unnecessarily. Output a final answer in plain text.\"\"\"\n",
        ")\n",
        "\n",
        "agent = ToolCallingAgent(tools=[DuckDuckGoSearchTool()], model=model)"
      ]
    },
    {
      "cell_type": "code",
      "execution_count": 22,
      "metadata": {},
      "outputs": [
        {
          "data": {
            "text/html": [
              "<pre style=\"white-space:pre;overflow-x:auto;line-height:normal;font-family:Menlo,'DejaVu Sans Mono',consolas,'Courier New',monospace\"><span style=\"color: #d4b702; text-decoration-color: #d4b702\">╭──────────────────────────────────────────────────── </span><span style=\"color: #d4b702; text-decoration-color: #d4b702; font-weight: bold\">New run</span><span style=\"color: #d4b702; text-decoration-color: #d4b702\"> ────────────────────────────────────────────────────╮</span>\n",
              "<span style=\"color: #d4b702; text-decoration-color: #d4b702\">│</span>                                                                                                                 <span style=\"color: #d4b702; text-decoration-color: #d4b702\">│</span>\n",
              "<span style=\"color: #d4b702; text-decoration-color: #d4b702\">│</span> <span style=\"font-weight: bold\">Give me the best music recommendations for a party at the Wayne's mansion.</span>                                      <span style=\"color: #d4b702; text-decoration-color: #d4b702\">│</span>\n",
              "<span style=\"color: #d4b702; text-decoration-color: #d4b702\">│</span>                                                                                                                 <span style=\"color: #d4b702; text-decoration-color: #d4b702\">│</span>\n",
              "<span style=\"color: #d4b702; text-decoration-color: #d4b702\">╰─ LiteLLMModel - ollama_chat/openchat ───────────────────────────────────────────────────────────────────────────╯</span>\n",
              "</pre>\n"
            ],
            "text/plain": [
              "\u001b[38;2;212;183;2m╭─\u001b[0m\u001b[38;2;212;183;2m───────────────────────────────────────────────────\u001b[0m\u001b[38;2;212;183;2m \u001b[0m\u001b[1;38;2;212;183;2mNew run\u001b[0m\u001b[38;2;212;183;2m \u001b[0m\u001b[38;2;212;183;2m───────────────────────────────────────────────────\u001b[0m\u001b[38;2;212;183;2m─╮\u001b[0m\n",
              "\u001b[38;2;212;183;2m│\u001b[0m                                                                                                                 \u001b[38;2;212;183;2m│\u001b[0m\n",
              "\u001b[38;2;212;183;2m│\u001b[0m \u001b[1mGive me the best music recommendations for a party at the Wayne's mansion.\u001b[0m                                      \u001b[38;2;212;183;2m│\u001b[0m\n",
              "\u001b[38;2;212;183;2m│\u001b[0m                                                                                                                 \u001b[38;2;212;183;2m│\u001b[0m\n",
              "\u001b[38;2;212;183;2m╰─\u001b[0m\u001b[38;2;212;183;2m LiteLLMModel - ollama_chat/openchat \u001b[0m\u001b[38;2;212;183;2m──────────────────────────────────────────────────────────────────────────\u001b[0m\u001b[38;2;212;183;2m─╯\u001b[0m\n"
            ]
          },
          "metadata": {},
          "output_type": "display_data"
        },
        {
          "data": {
            "text/html": [
              "<pre style=\"white-space:pre;overflow-x:auto;line-height:normal;font-family:Menlo,'DejaVu Sans Mono',consolas,'Courier New',monospace\"><span style=\"color: #d4b702; text-decoration-color: #d4b702\">━━━━━━━━━━━━━━━━━━━━━━━━━━━━━━━━━━━━━━━━━━━━━━━━━━━━━ </span><span style=\"font-weight: bold\">Step </span><span style=\"color: #008080; text-decoration-color: #008080; font-weight: bold\">1</span><span style=\"color: #d4b702; text-decoration-color: #d4b702\"> ━━━━━━━━━━━━━━━━━━━━━━━━━━━━━━━━━━━━━━━━━━━━━━━━━━━━━━</span>\n",
              "</pre>\n"
            ],
            "text/plain": [
              "\u001b[38;2;212;183;2m━━━━━━━━━━━━━━━━━━━━━━━━━━━━━━━━━━━━━━━━━━━━━━━━━━━━━ \u001b[0m\u001b[1mStep \u001b[0m\u001b[1;36m1\u001b[0m\u001b[38;2;212;183;2m ━━━━━━━━━━━━━━━━━━━━━━━━━━━━━━━━━━━━━━━━━━━━━━━━━━━━━━\u001b[0m\n"
            ]
          },
          "metadata": {},
          "output_type": "display_data"
        },
        {
          "data": {
            "text/html": [
              "<pre style=\"white-space:pre;overflow-x:auto;line-height:normal;font-family:Menlo,'DejaVu Sans Mono',consolas,'Courier New',monospace\">╭─────────────────────────────────────────────────────────────────────────────────────────────────────────────────╮\n",
              "│ Calling tool: 'web_search' with arguments: {'query': 'best party music for a mansion'}                          │\n",
              "╰─────────────────────────────────────────────────────────────────────────────────────────────────────────────────╯\n",
              "</pre>\n"
            ],
            "text/plain": [
              "╭─────────────────────────────────────────────────────────────────────────────────────────────────────────────────╮\n",
              "│ Calling tool: 'web_search' with arguments: {'query': 'best party music for a mansion'}                          │\n",
              "╰─────────────────────────────────────────────────────────────────────────────────────────────────────────────────╯\n"
            ]
          },
          "metadata": {},
          "output_type": "display_data"
        },
        {
          "data": {
            "text/html": [
              "<pre style=\"white-space:pre;overflow-x:auto;line-height:normal;font-family:Menlo,'DejaVu Sans Mono',consolas,'Courier New',monospace\">Observations: ## Search Results\n",
              "\n",
              "|The <span style=\"color: #008080; text-decoration-color: #008080; font-weight: bold\">75</span> Best Party Songs That Will Get Everyone Dancing - \n",
              "Gear4music<span style=\"font-weight: bold\">](</span><span style=\"color: #0000ff; text-decoration-color: #0000ff; text-decoration: underline\">https://www.gear4music.com/blog/best-party-songs/)</span>\n",
              "<span style=\"color: #008080; text-decoration-color: #008080; font-weight: bold\">49</span>. <span style=\"color: #008000; text-decoration-color: #008000\">\"Jump Around\"</span> - House of Pain <span style=\"font-weight: bold\">(</span><span style=\"color: #008080; text-decoration-color: #008080; font-weight: bold\">1992</span><span style=\"font-weight: bold\">)</span> <span style=\"color: #008080; text-decoration-color: #008080; font-weight: bold\">50</span>. <span style=\"color: #008000; text-decoration-color: #008000\">\"Dance Monkey\"</span> - Tones and I <span style=\"font-weight: bold\">(</span><span style=\"color: #008080; text-decoration-color: #008080; font-weight: bold\">2019</span><span style=\"font-weight: bold\">)</span> <span style=\"color: #008080; text-decoration-color: #008080; font-weight: bold\">51</span>. <span style=\"color: #008000; text-decoration-color: #008000\">\"Moves Like Jagger\"</span> - Maroon <span style=\"color: #008080; text-decoration-color: #008080; font-weight: bold\">5</span>\n",
              "ft. Christina Aguilera <span style=\"font-weight: bold\">(</span><span style=\"color: #008080; text-decoration-color: #008080; font-weight: bold\">2011</span><span style=\"font-weight: bold\">)</span> <span style=\"color: #808000; text-decoration-color: #808000\">...</span> to keep things simple, we've compiled the best party songs of all time, from \n",
              "timeless classics to contemporary hits, giving you a diverse, family-friendly playlist that <span style=\"color: #808000; text-decoration-color: #808000\">...</span>\n",
              "\n",
              "|<span style=\"color: #008080; text-decoration-color: #008080; font-weight: bold\">200</span> Classic House Party Songs Everyone Knows | The Best <span style=\"color: #808000; text-decoration-color: #808000\">...</span> - \n",
              "iSpyTunes<span style=\"font-weight: bold\">](</span><span style=\"color: #0000ff; text-decoration-color: #0000ff; text-decoration: underline\">https://www.ispytunes.com/post/house-party-songs)</span>\n",
              "Next, let's get into reviewing <span style=\"color: #008080; text-decoration-color: #008080; font-weight: bold\">20</span> of the best songs for your next house party. <span style=\"color: #008080; text-decoration-color: #008080; font-weight: bold\">1</span>. rockstar by Post Malone <span style=\"font-weight: bold\">(</span>feat. <span style=\"color: #008080; text-decoration-color: #008080; font-weight: bold\">21</span>\n",
              "Savage<span style=\"font-weight: bold\">)</span> <span style=\"color: #008000; text-decoration-color: #008000\">\"rockstar\"</span> by Post Malone <span style=\"font-weight: bold\">(</span>feat. <span style=\"color: #008080; text-decoration-color: #008080; font-weight: bold\">21</span> Savage<span style=\"font-weight: bold\">)</span> is an incredibly popular song with a great instrumental and an \n",
              "infectious chorus, which makes it a perfect song for playing at parties. The whole song is like a giant energy <span style=\"color: #808000; text-decoration-color: #808000\">...</span>\n",
              "\n",
              "|Top <span style=\"color: #008080; text-decoration-color: #008080; font-weight: bold\">200</span> Most Requested Songs - DJ Event Planner<span style=\"font-weight: bold\">](</span><span style=\"color: #0000ff; text-decoration-color: #0000ff; text-decoration: underline\">https://djeventplanner.com/mostrequested.htm)</span>\n",
              "House Of Pain: Jump Around: <span style=\"color: #008080; text-decoration-color: #008080; font-weight: bold\">88</span>: Beatles: Twist And Shout: <span style=\"color: #008080; text-decoration-color: #008080; font-weight: bold\">89</span>: Taylor Swift: Lover: <span style=\"color: #008080; text-decoration-color: #008080; font-weight: bold\">90</span>: Justin Timberlake: Can't \n",
              "Stop The Feeling! <span style=\"color: #008080; text-decoration-color: #008080; font-weight: bold\">91</span>: Wild Cherry: Play That Funky Music: <span style=\"color: #008080; text-decoration-color: #008080; font-weight: bold\">92</span>: Beyonce: Love On Top: <span style=\"color: #008080; text-decoration-color: #008080; font-weight: bold\">93</span>: Big &amp; Rich: Save A Horse \n",
              "<span style=\"font-weight: bold\">(</span>Ride A Cowboy<span style=\"font-weight: bold\">)</span> <span style=\"color: #008080; text-decoration-color: #008080; font-weight: bold\">94</span>: Taylor Swift: You Belong With Me: <span style=\"color: #008080; text-decoration-color: #008080; font-weight: bold\">95</span>: Cardi B, Bad Bunny and J Balvin: I Like It: <span style=\"color: #008080; text-decoration-color: #008080; font-weight: bold\">96</span>: Rihanna: \n",
              "Don't <span style=\"color: #808000; text-decoration-color: #808000\">...</span>\n",
              "\n",
              "|<span style=\"color: #008080; text-decoration-color: #008080; font-weight: bold\">40</span> Best Party Songs | Songs To Dance To, Ranked By Our Editors - Time \n",
              "Out<span style=\"font-weight: bold\">](</span><span style=\"color: #0000ff; text-decoration-color: #0000ff; text-decoration: underline\">https://www.timeout.com/music/best-party-songs)</span>\n",
              "You're in the right place - these are the best party songs of all time. RECOMMENDED: 🎵 The best songs of <span style=\"color: #008080; text-decoration-color: #008080; font-weight: bold\">2025</span> so \n",
              "far <span style=\"color: #808000; text-decoration-color: #808000\">...</span> With its instantly recognisable bumping house backing track, filthy <span style=\"color: #808000; text-decoration-color: #808000\">...</span>\n",
              "\n",
              "|Best Songs To Party: DJ's Ultimate Party Songs Playlist - \n",
              "Top40Weekly.com<span style=\"font-weight: bold\">](</span><span style=\"color: #0000ff; text-decoration-color: #0000ff; text-decoration: underline\">https://top40weekly.com/best-songs-to-party/)</span>\n",
              "Don't forget the music! We've compiled the best songs to party that are sure to get everyone in the mood to dance \n",
              "and have a good time. Skip to content. Search for: <span style=\"color: #008080; text-decoration-color: #008080; font-weight: bold\">1950</span>. Top Songs from <span style=\"color: #008080; text-decoration-color: #008080; font-weight: bold\">1955</span>; <span style=\"color: #808000; text-decoration-color: #808000\">...</span> a house party, or just jamming \n",
              "out with friends, this song will ignite the party vibe and create unforgettable memories. <span style=\"color: #008080; text-decoration-color: #008080; font-weight: bold\">4</span> - \"Get Lucky <span style=\"color: #808000; text-decoration-color: #808000\">...</span>\n",
              "\n",
              "|<span style=\"color: #008080; text-decoration-color: #008080; font-weight: bold\">100</span> Best Party Songs: The Ultimate Party Playlist<span style=\"font-weight: bold\">](</span><span style=\"color: #0000ff; text-decoration-color: #0000ff; text-decoration: underline\">https://audiocaptain.com/best-party-songs/)</span>\n",
              "Best Party Songs <span style=\"color: #008080; text-decoration-color: #008080; font-weight: bold\">2024</span>. The Coronavirus will forever shroud this portion of music history. Music was still being \n",
              "released, but due to COVID restrictions, clubs were closed, house parties banned, and raves monitored.\n",
              "\n",
              "|<span style=\"color: #008080; text-decoration-color: #008080; font-weight: bold\">30</span> Best House Party Songs: The Ultimate \n",
              "Playlist<span style=\"font-weight: bold\">](</span><span style=\"color: #0000ff; text-decoration-color: #0000ff; text-decoration: underline\">https://rageshreemusicinst.org/post/best-songs-to-play-at-a-house-party.html)</span>\n",
              "Throwing the perfect house party hinges on the perfect soundtrack. Creating the right atmosphere, one that keeps \n",
              "the energy high and the good times rolling, requires a carefully curated playlist. This isn't just about playing \n",
              "any old tunes; it's about selecting songs with staying power, tracks that span genres and generations, instantly \n",
              "<span style=\"color: #808000; text-decoration-color: #808000\">...</span>\n",
              "\n",
              "|Best Party Playlist: <span style=\"color: #008080; text-decoration-color: #008080; font-weight: bold\">25</span> High-Energy Songs for the Ultimate \n",
              "Celebration<span style=\"font-weight: bold\">](</span><span style=\"color: #0000ff; text-decoration-color: #0000ff; text-decoration: underline\">https://audioassemble.com/best-party-playlist/)</span>\n",
              "Whether you're planning a weekend house party, a birthday bash, or an impromptu dance-off, every celebration \n",
              "deserves the perfect soundtrack. Our selection of <span style=\"color: #008080; text-decoration-color: #008080; font-weight: bold\">25</span> high-energy songs are tried-and-true crowd pleasers that \n",
              "seamlessly blend different genres and eras, ensuring there's something for everyone. <span style=\"color: #808000; text-decoration-color: #808000\">...</span> Best Songs from Female \n",
              "Artists: <span style=\"color: #008080; text-decoration-color: #008080; font-weight: bold\">20</span> <span style=\"color: #808000; text-decoration-color: #808000\">...</span>\n",
              "\n",
              "|Top <span style=\"color: #008080; text-decoration-color: #008080; font-weight: bold\">25</span> House Party Songs of All Time | GrooveNexus<span style=\"font-weight: bold\">](</span><span style=\"color: #0000ff; text-decoration-color: #0000ff; text-decoration: underline\">https://www.groovenexus.com/top-playlist/house-party-songs/)</span>\n",
              "Houses are the safest place to party and hang out with friends while playing the best house party songs. Imagine a \n",
              "close circle where music truly comes alive and jive up with the house party songs of all time. It is fun to plan \n",
              "and host an in-house party. We usually come across many iconic videos that people host in their living rooms and \n",
              "have <span style=\"color: #808000; text-decoration-color: #808000\">...</span>\n",
              "\n",
              "|<span style=\"color: #008080; text-decoration-color: #008080; font-weight: bold\">61</span> Best House Party Songs - Instrumentful<span style=\"font-weight: bold\">](</span><span style=\"color: #0000ff; text-decoration-color: #0000ff; text-decoration: underline\">https://instrumentful.com/61-best-house-party-songs/)</span>\n",
              "As we shuffle into the weekend, it's time to let loose and bust a move! Whether it's a birthday bash, a wild \n",
              "college party, or a just-because-soiree, one thing's for sure - music is the key ingredient to a memorable night. \n",
              "From the electrifying bass beats to the catchy chorus, house party songs have the power to get everyone on their \n",
              "feet.\n",
              "</pre>\n"
            ],
            "text/plain": [
              "Observations: ## Search Results\n",
              "\n",
              "|The \u001b[1;36m75\u001b[0m Best Party Songs That Will Get Everyone Dancing - \n",
              "Gear4music\u001b[1m]\u001b[0m\u001b[1m(\u001b[0m\u001b[4;94mhttps://www.gear4music.com/blog/best-party-songs/\u001b[0m\u001b[4;94m)\u001b[0m\n",
              "\u001b[1;36m49\u001b[0m. \u001b[32m\"Jump Around\"\u001b[0m - House of Pain \u001b[1m(\u001b[0m\u001b[1;36m1992\u001b[0m\u001b[1m)\u001b[0m \u001b[1;36m50\u001b[0m. \u001b[32m\"Dance Monkey\"\u001b[0m - Tones and I \u001b[1m(\u001b[0m\u001b[1;36m2019\u001b[0m\u001b[1m)\u001b[0m \u001b[1;36m51\u001b[0m. \u001b[32m\"Moves Like Jagger\"\u001b[0m - Maroon \u001b[1;36m5\u001b[0m\n",
              "ft. Christina Aguilera \u001b[1m(\u001b[0m\u001b[1;36m2011\u001b[0m\u001b[1m)\u001b[0m \u001b[33m...\u001b[0m to keep things simple, we've compiled the best party songs of all time, from \n",
              "timeless classics to contemporary hits, giving you a diverse, family-friendly playlist that \u001b[33m...\u001b[0m\n",
              "\n",
              "|\u001b[1;36m200\u001b[0m Classic House Party Songs Everyone Knows | The Best \u001b[33m...\u001b[0m - \n",
              "iSpyTunes\u001b[1m]\u001b[0m\u001b[1m(\u001b[0m\u001b[4;94mhttps://www.ispytunes.com/post/house-party-songs\u001b[0m\u001b[4;94m)\u001b[0m\n",
              "Next, let's get into reviewing \u001b[1;36m20\u001b[0m of the best songs for your next house party. \u001b[1;36m1\u001b[0m. rockstar by Post Malone \u001b[1m(\u001b[0mfeat. \u001b[1;36m21\u001b[0m\n",
              "Savage\u001b[1m)\u001b[0m \u001b[32m\"rockstar\"\u001b[0m by Post Malone \u001b[1m(\u001b[0mfeat. \u001b[1;36m21\u001b[0m Savage\u001b[1m)\u001b[0m is an incredibly popular song with a great instrumental and an \n",
              "infectious chorus, which makes it a perfect song for playing at parties. The whole song is like a giant energy \u001b[33m...\u001b[0m\n",
              "\n",
              "|Top \u001b[1;36m200\u001b[0m Most Requested Songs - DJ Event Planner\u001b[1m]\u001b[0m\u001b[1m(\u001b[0m\u001b[4;94mhttps://djeventplanner.com/mostrequested.htm\u001b[0m\u001b[4;94m)\u001b[0m\n",
              "House Of Pain: Jump Around: \u001b[1;36m88\u001b[0m: Beatles: Twist And Shout: \u001b[1;36m89\u001b[0m: Taylor Swift: Lover: \u001b[1;36m90\u001b[0m: Justin Timberlake: Can't \n",
              "Stop The Feeling! \u001b[1;36m91\u001b[0m: Wild Cherry: Play That Funky Music: \u001b[1;36m92\u001b[0m: Beyonce: Love On Top: \u001b[1;36m93\u001b[0m: Big & Rich: Save A Horse \n",
              "\u001b[1m(\u001b[0mRide A Cowboy\u001b[1m)\u001b[0m \u001b[1;36m94\u001b[0m: Taylor Swift: You Belong With Me: \u001b[1;36m95\u001b[0m: Cardi B, Bad Bunny and J Balvin: I Like It: \u001b[1;36m96\u001b[0m: Rihanna: \n",
              "Don't \u001b[33m...\u001b[0m\n",
              "\n",
              "|\u001b[1;36m40\u001b[0m Best Party Songs | Songs To Dance To, Ranked By Our Editors - Time \n",
              "Out\u001b[1m]\u001b[0m\u001b[1m(\u001b[0m\u001b[4;94mhttps://www.timeout.com/music/best-party-songs\u001b[0m\u001b[4;94m)\u001b[0m\n",
              "You're in the right place - these are the best party songs of all time. RECOMMENDED: 🎵 The best songs of \u001b[1;36m2025\u001b[0m so \n",
              "far \u001b[33m...\u001b[0m With its instantly recognisable bumping house backing track, filthy \u001b[33m...\u001b[0m\n",
              "\n",
              "|Best Songs To Party: DJ's Ultimate Party Songs Playlist - \n",
              "Top40Weekly.com\u001b[1m]\u001b[0m\u001b[1m(\u001b[0m\u001b[4;94mhttps://top40weekly.com/best-songs-to-party/\u001b[0m\u001b[4;94m)\u001b[0m\n",
              "Don't forget the music! We've compiled the best songs to party that are sure to get everyone in the mood to dance \n",
              "and have a good time. Skip to content. Search for: \u001b[1;36m1950\u001b[0m. Top Songs from \u001b[1;36m1955\u001b[0m; \u001b[33m...\u001b[0m a house party, or just jamming \n",
              "out with friends, this song will ignite the party vibe and create unforgettable memories. \u001b[1;36m4\u001b[0m - \"Get Lucky \u001b[33m...\u001b[0m\n",
              "\n",
              "|\u001b[1;36m100\u001b[0m Best Party Songs: The Ultimate Party Playlist\u001b[1m]\u001b[0m\u001b[1m(\u001b[0m\u001b[4;94mhttps://audiocaptain.com/best-party-songs/\u001b[0m\u001b[4;94m)\u001b[0m\n",
              "Best Party Songs \u001b[1;36m2024\u001b[0m. The Coronavirus will forever shroud this portion of music history. Music was still being \n",
              "released, but due to COVID restrictions, clubs were closed, house parties banned, and raves monitored.\n",
              "\n",
              "|\u001b[1;36m30\u001b[0m Best House Party Songs: The Ultimate \n",
              "Playlist\u001b[1m]\u001b[0m\u001b[1m(\u001b[0m\u001b[4;94mhttps://rageshreemusicinst.org/post/best-songs-to-play-at-a-house-party.html\u001b[0m\u001b[4;94m)\u001b[0m\n",
              "Throwing the perfect house party hinges on the perfect soundtrack. Creating the right atmosphere, one that keeps \n",
              "the energy high and the good times rolling, requires a carefully curated playlist. This isn't just about playing \n",
              "any old tunes; it's about selecting songs with staying power, tracks that span genres and generations, instantly \n",
              "\u001b[33m...\u001b[0m\n",
              "\n",
              "|Best Party Playlist: \u001b[1;36m25\u001b[0m High-Energy Songs for the Ultimate \n",
              "Celebration\u001b[1m]\u001b[0m\u001b[1m(\u001b[0m\u001b[4;94mhttps://audioassemble.com/best-party-playlist/\u001b[0m\u001b[4;94m)\u001b[0m\n",
              "Whether you're planning a weekend house party, a birthday bash, or an impromptu dance-off, every celebration \n",
              "deserves the perfect soundtrack. Our selection of \u001b[1;36m25\u001b[0m high-energy songs are tried-and-true crowd pleasers that \n",
              "seamlessly blend different genres and eras, ensuring there's something for everyone. \u001b[33m...\u001b[0m Best Songs from Female \n",
              "Artists: \u001b[1;36m20\u001b[0m \u001b[33m...\u001b[0m\n",
              "\n",
              "|Top \u001b[1;36m25\u001b[0m House Party Songs of All Time | GrooveNexus\u001b[1m]\u001b[0m\u001b[1m(\u001b[0m\u001b[4;94mhttps://www.groovenexus.com/top-playlist/house-party-songs/\u001b[0m\u001b[4;94m)\u001b[0m\n",
              "Houses are the safest place to party and hang out with friends while playing the best house party songs. Imagine a \n",
              "close circle where music truly comes alive and jive up with the house party songs of all time. It is fun to plan \n",
              "and host an in-house party. We usually come across many iconic videos that people host in their living rooms and \n",
              "have \u001b[33m...\u001b[0m\n",
              "\n",
              "|\u001b[1;36m61\u001b[0m Best House Party Songs - Instrumentful\u001b[1m]\u001b[0m\u001b[1m(\u001b[0m\u001b[4;94mhttps://instrumentful.com/61-best-house-party-songs/\u001b[0m\u001b[4;94m)\u001b[0m\n",
              "As we shuffle into the weekend, it's time to let loose and bust a move! Whether it's a birthday bash, a wild \n",
              "college party, or a just-because-soiree, one thing's for sure - music is the key ingredient to a memorable night. \n",
              "From the electrifying bass beats to the catchy chorus, house party songs have the power to get everyone on their \n",
              "feet.\n"
            ]
          },
          "metadata": {},
          "output_type": "display_data"
        },
        {
          "data": {
            "text/html": [
              "<pre style=\"white-space:pre;overflow-x:auto;line-height:normal;font-family:Menlo,'DejaVu Sans Mono',consolas,'Courier New',monospace\"><span style=\"color: #7f7f7f; text-decoration-color: #7f7f7f\">[Step 1: Duration 4.83 seconds| Input tokens: 1,265 | Output tokens: 37]</span>\n",
              "</pre>\n"
            ],
            "text/plain": [
              "\u001b[2m[Step 1: Duration 4.83 seconds| Input tokens: 1,265 | Output tokens: 37]\u001b[0m\n"
            ]
          },
          "metadata": {},
          "output_type": "display_data"
        },
        {
          "data": {
            "text/html": [
              "<pre style=\"white-space:pre;overflow-x:auto;line-height:normal;font-family:Menlo,'DejaVu Sans Mono',consolas,'Courier New',monospace\"><span style=\"color: #d4b702; text-decoration-color: #d4b702\">━━━━━━━━━━━━━━━━━━━━━━━━━━━━━━━━━━━━━━━━━━━━━━━━━━━━━ </span><span style=\"font-weight: bold\">Step </span><span style=\"color: #008080; text-decoration-color: #008080; font-weight: bold\">2</span><span style=\"color: #d4b702; text-decoration-color: #d4b702\"> ━━━━━━━━━━━━━━━━━━━━━━━━━━━━━━━━━━━━━━━━━━━━━━━━━━━━━━</span>\n",
              "</pre>\n"
            ],
            "text/plain": [
              "\u001b[38;2;212;183;2m━━━━━━━━━━━━━━━━━━━━━━━━━━━━━━━━━━━━━━━━━━━━━━━━━━━━━ \u001b[0m\u001b[1mStep \u001b[0m\u001b[1;36m2\u001b[0m\u001b[38;2;212;183;2m ━━━━━━━━━━━━━━━━━━━━━━━━━━━━━━━━━━━━━━━━━━━━━━━━━━━━━━\u001b[0m\n"
            ]
          },
          "metadata": {},
          "output_type": "display_data"
        },
        {
          "data": {
            "text/html": [
              "<pre style=\"white-space:pre;overflow-x:auto;line-height:normal;font-family:Menlo,'DejaVu Sans Mono',consolas,'Courier New',monospace\">╭─────────────────────────────────────────────────────────────────────────────────────────────────────────────────╮\n",
              "│ Calling tool: 'final_answer' with arguments: Disco Inferno - The Trammps, Superstition - Stevie Wonder, Billie  │\n",
              "│ Jean - Michael Jackson, Don't Stop 'Til You Get Enough - Michael Jackson, I Will Survive - Gloria Gaynor,       │\n",
              "│ Stayin' Alive - Bee Gees, Boogie Wonderland - Earth, Wind &amp; Fire and The Emotions, Proud Mary - Tina Turner,    │\n",
              "│ Blame It on the Boogie - The Jacksons, Get Lucky - Daft Punk ft. Pharrell Williams and Nile Rodgers, Uptown     │\n",
              "│ Funk - Mark Ronson ft. Bruno Mars, Can't Stop the Feeling! - Justin Timberlake, Happy - Pharrell Williams, Mr.  │\n",
              "│ Blue Sky - Electric Light Orchestra, We Are Family - Sister Sledge, I Wanna Dance With Somebody - Whitney       │\n",
              "│ Houston, September - Earth, Wind &amp; Fire, Billie Jean - Michael Jackson, Love Shack - The B-52's, Play That      │\n",
              "│ Funky Music - Wild Cherry, Get Lucky - Daft Punk ft. Pharrell Williams and Nile Rodgers, Uptown Funk - Mark     │\n",
              "│ Ronson ft. Bruno Mars, Can't Stop the Feeling! - Justin Timberlake, Happy - Pharrell Williams, Mr. Blue Sky -   │\n",
              "│ Electric Light Orchestra, We Are Family - Sister Sledge, I Wanna Dance With Somebody - Whitney Houston,         │\n",
              "│ September - Earth, Wind &amp; Fire                                                                                  │\n",
              "╰─────────────────────────────────────────────────────────────────────────────────────────────────────────────────╯\n",
              "</pre>\n"
            ],
            "text/plain": [
              "╭─────────────────────────────────────────────────────────────────────────────────────────────────────────────────╮\n",
              "│ Calling tool: 'final_answer' with arguments: Disco Inferno - The Trammps, Superstition - Stevie Wonder, Billie  │\n",
              "│ Jean - Michael Jackson, Don't Stop 'Til You Get Enough - Michael Jackson, I Will Survive - Gloria Gaynor,       │\n",
              "│ Stayin' Alive - Bee Gees, Boogie Wonderland - Earth, Wind & Fire and The Emotions, Proud Mary - Tina Turner,    │\n",
              "│ Blame It on the Boogie - The Jacksons, Get Lucky - Daft Punk ft. Pharrell Williams and Nile Rodgers, Uptown     │\n",
              "│ Funk - Mark Ronson ft. Bruno Mars, Can't Stop the Feeling! - Justin Timberlake, Happy - Pharrell Williams, Mr.  │\n",
              "│ Blue Sky - Electric Light Orchestra, We Are Family - Sister Sledge, I Wanna Dance With Somebody - Whitney       │\n",
              "│ Houston, September - Earth, Wind & Fire, Billie Jean - Michael Jackson, Love Shack - The B-52's, Play That      │\n",
              "│ Funky Music - Wild Cherry, Get Lucky - Daft Punk ft. Pharrell Williams and Nile Rodgers, Uptown Funk - Mark     │\n",
              "│ Ronson ft. Bruno Mars, Can't Stop the Feeling! - Justin Timberlake, Happy - Pharrell Williams, Mr. Blue Sky -   │\n",
              "│ Electric Light Orchestra, We Are Family - Sister Sledge, I Wanna Dance With Somebody - Whitney Houston,         │\n",
              "│ September - Earth, Wind & Fire                                                                                  │\n",
              "╰─────────────────────────────────────────────────────────────────────────────────────────────────────────────────╯\n"
            ]
          },
          "metadata": {},
          "output_type": "display_data"
        },
        {
          "data": {
            "text/html": [
              "<pre style=\"white-space:pre;overflow-x:auto;line-height:normal;font-family:Menlo,'DejaVu Sans Mono',consolas,'Courier New',monospace\"><span style=\"color: #d4b702; text-decoration-color: #d4b702; font-weight: bold\">Final answer: Disco Inferno - The Trammps, Superstition - Stevie Wonder, Billie Jean - Michael Jackson, Don't Stop </span>\n",
              "<span style=\"color: #d4b702; text-decoration-color: #d4b702; font-weight: bold\">'Til You Get Enough - Michael Jackson, I Will Survive - Gloria Gaynor, Stayin' Alive - Bee Gees, Boogie Wonderland </span>\n",
              "<span style=\"color: #d4b702; text-decoration-color: #d4b702; font-weight: bold\">- Earth, Wind &amp; Fire and The Emotions, Proud Mary - Tina Turner, Blame It on the Boogie - The Jacksons, Get Lucky -</span>\n",
              "<span style=\"color: #d4b702; text-decoration-color: #d4b702; font-weight: bold\">Daft Punk ft. Pharrell Williams and Nile Rodgers, Uptown Funk - Mark Ronson ft. Bruno Mars, Can't Stop the Feeling!</span>\n",
              "<span style=\"color: #d4b702; text-decoration-color: #d4b702; font-weight: bold\">- Justin Timberlake, Happy - Pharrell Williams, Mr. Blue Sky - Electric Light Orchestra, We Are Family - Sister </span>\n",
              "<span style=\"color: #d4b702; text-decoration-color: #d4b702; font-weight: bold\">Sledge, I Wanna Dance With Somebody - Whitney Houston, September - Earth, Wind &amp; Fire, Billie Jean - Michael </span>\n",
              "<span style=\"color: #d4b702; text-decoration-color: #d4b702; font-weight: bold\">Jackson, Love Shack - The B-52's, Play That Funky Music - Wild Cherry, Get Lucky - Daft Punk ft. Pharrell Williams </span>\n",
              "<span style=\"color: #d4b702; text-decoration-color: #d4b702; font-weight: bold\">and Nile Rodgers, Uptown Funk - Mark Ronson ft. Bruno Mars, Can't Stop the Feeling! - Justin Timberlake, Happy - </span>\n",
              "<span style=\"color: #d4b702; text-decoration-color: #d4b702; font-weight: bold\">Pharrell Williams, Mr. Blue Sky - Electric Light Orchestra, We Are Family - Sister Sledge, I Wanna Dance With </span>\n",
              "<span style=\"color: #d4b702; text-decoration-color: #d4b702; font-weight: bold\">Somebody - Whitney Houston, September - Earth, Wind &amp; Fire</span>\n",
              "</pre>\n"
            ],
            "text/plain": [
              "\u001b[1;38;2;212;183;2mFinal answer: Disco Inferno - The Trammps, Superstition - Stevie Wonder, Billie Jean - Michael Jackson, Don't Stop \u001b[0m\n",
              "\u001b[1;38;2;212;183;2m'Til You Get Enough - Michael Jackson, I Will Survive - Gloria Gaynor, Stayin' Alive - Bee Gees, Boogie Wonderland \u001b[0m\n",
              "\u001b[1;38;2;212;183;2m- Earth, Wind & Fire and The Emotions, Proud Mary - Tina Turner, Blame It on the Boogie - The Jacksons, Get Lucky -\u001b[0m\n",
              "\u001b[1;38;2;212;183;2mDaft Punk ft. Pharrell Williams and Nile Rodgers, Uptown Funk - Mark Ronson ft. Bruno Mars, Can't Stop the Feeling!\u001b[0m\n",
              "\u001b[1;38;2;212;183;2m- Justin Timberlake, Happy - Pharrell Williams, Mr. Blue Sky - Electric Light Orchestra, We Are Family - Sister \u001b[0m\n",
              "\u001b[1;38;2;212;183;2mSledge, I Wanna Dance With Somebody - Whitney Houston, September - Earth, Wind & Fire, Billie Jean - Michael \u001b[0m\n",
              "\u001b[1;38;2;212;183;2mJackson, Love Shack - The B-52's, Play That Funky Music - Wild Cherry, Get Lucky - Daft Punk ft. Pharrell Williams \u001b[0m\n",
              "\u001b[1;38;2;212;183;2mand Nile Rodgers, Uptown Funk - Mark Ronson ft. Bruno Mars, Can't Stop the Feeling! - Justin Timberlake, Happy - \u001b[0m\n",
              "\u001b[1;38;2;212;183;2mPharrell Williams, Mr. Blue Sky - Electric Light Orchestra, We Are Family - Sister Sledge, I Wanna Dance With \u001b[0m\n",
              "\u001b[1;38;2;212;183;2mSomebody - Whitney Houston, September - Earth, Wind & Fire\u001b[0m\n"
            ]
          },
          "metadata": {},
          "output_type": "display_data"
        },
        {
          "data": {
            "text/html": [
              "<pre style=\"white-space:pre;overflow-x:auto;line-height:normal;font-family:Menlo,'DejaVu Sans Mono',consolas,'Courier New',monospace\"><span style=\"color: #7f7f7f; text-decoration-color: #7f7f7f\">[Step 2: Duration 10.55 seconds| Input tokens: 3,940 | Output tokens: 369]</span>\n",
              "</pre>\n"
            ],
            "text/plain": [
              "\u001b[2m[Step 2: Duration 10.55 seconds| Input tokens: 3,940 | Output tokens: 369]\u001b[0m\n"
            ]
          },
          "metadata": {},
          "output_type": "display_data"
        }
      ],
      "source": [
        "import time\n",
        "\n",
        "for attempt in range(3):\n",
        "    try:\n",
        "        agent.run(\"Give me the best music recommendations for a party at the Wayne's mansion.\")\n",
        "        break\n",
        "    except Exception as e:\n",
        "        print(f\"Attempt {attempt+1} failed: {e}\")\n",
        "        time.sleep(5)  # Wait a few seconds before retrying\n",
        "\n",
        "\n"
      ]
    },
    {
      "cell_type": "markdown",
      "metadata": {
        "id": "Cl19VWGRYXrr"
      },
      "source": [
        "\n",
        "When you examine the agent's trace, instead of seeing `Executing parsed code:`, you'll see something like:\n",
        "\n",
        "```text\n",
        "╭─────────────────────────────────────────────────────────────────────────────────────────────────────────────────╮\n",
        "│ Calling tool: 'web_search' with arguments: {'query': \"best music recommendations for a party at Wayne's         │\n",
        "│ mansion\"}                                                                                                       │\n",
        "╰─────────────────────────────────────────────────────────────────────────────────────────────────────────────────╯\n",
        "```  \n",
        "\n",
        "The agent generates a structured tool call that the system processes to produce the output, rather than directly executing code like a `CodeAgent`.\n",
        "\n",
        "Now that we understand both agent types, we can choose the right one for our needs. Let's continue exploring `smolagents` to make Alfred's party a success! 🎉"
      ]
    },
    {
      "cell_type": "markdown",
      "metadata": {},
      "source": [
        "**Observations**\n",
        "\n",
        "Many times I encountered problems between two differents steps because the model cannot generate valid JSON tool call.(Qwen)\n",
        "\n",
        "With others models, the agent will loop on search and do an infinite numbers of searchs (Mistral)\n",
        "\n",
        "Some models are not creative and does not to give me a playlist until I modify the prompt (DeepSeek)\n",
        "\n",
        "Best option here was (OpenChat)"
      ]
    },
    {
      "cell_type": "markdown",
      "metadata": {},
      "source": []
    }
  ],
  "metadata": {
    "colab": {
      "include_colab_link": true,
      "provenance": []
    },
    "kernelspec": {
      "display_name": "venv",
      "language": "python",
      "name": "python3"
    },
    "language_info": {
      "codemirror_mode": {
        "name": "ipython",
        "version": 3
      },
      "file_extension": ".py",
      "mimetype": "text/x-python",
      "name": "python",
      "nbconvert_exporter": "python",
      "pygments_lexer": "ipython3",
      "version": "3.12.3"
    }
  },
  "nbformat": 4,
  "nbformat_minor": 0
}
